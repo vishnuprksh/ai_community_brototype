{
 "cells": [
  {
   "cell_type": "markdown",
   "metadata": {},
   "source": [
    "# A simple neural network"
   ]
  },
  {
   "cell_type": "code",
   "execution_count": 2,
   "metadata": {},
   "outputs": [
    {
     "name": "stdout",
     "output_type": "stream",
     "text": [
      "75.0\n"
     ]
    }
   ],
   "source": [
    "weight = 0.5\n",
    "\n",
    "def neural_network(input, weight):\n",
    "    pred = input * weight\n",
    "    return pred\n",
    "\n",
    "batting_avg = 150\n",
    "\n",
    "prediction = neural_network(batting_avg, weight)"
   ]
  },
  {
   "cell_type": "code",
   "execution_count": 4,
   "metadata": {},
   "outputs": [
    {
     "name": "stdout",
     "output_type": "stream",
     "text": [
      "124.5\n"
     ]
    }
   ],
   "source": [
    "batting_avg= [200, 150, 300]\n",
    "bowling_avg=[ 30, 50, 70]\n",
    "home_advantage = [1, 0, 1]\n",
    "\n",
    "weights = [0.5, 0.8, 0.5]\n",
    "inputs = [batting_avg[0], bowling_avg[0], home_advantage[0]]\n",
    "\n",
    "def weighted_sum(inputs, weights):\n",
    "    sum = 0\n",
    "    for i in range(len(inputs)):\n",
    "        sum += inputs[i] * weights[i]\n",
    "    return sum\n",
    "\n",
    "\n",
    "def neural_network(inputs, weights):\n",
    "    pred = weighted_sum(inputs, weights)\n",
    "    return pred\n",
    "\n",
    "prediction = neural_network(inputs, weights)\n",
    "print(prediction)"
   ]
  },
  {
   "cell_type": "code",
   "execution_count": null,
   "metadata": {},
   "outputs": [],
   "source": []
  }
 ],
 "metadata": {
  "kernelspec": {
   "display_name": "workshop",
   "language": "python",
   "name": "python3"
  },
  "language_info": {
   "codemirror_mode": {
    "name": "ipython",
    "version": 3
   },
   "file_extension": ".py",
   "mimetype": "text/x-python",
   "name": "python",
   "nbconvert_exporter": "python",
   "pygments_lexer": "ipython3",
   "version": "3.11.5"
  }
 },
 "nbformat": 4,
 "nbformat_minor": 2
}
